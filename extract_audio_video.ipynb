{
 "cells": [
  {
   "cell_type": "code",
   "execution_count": null,
   "metadata": {},
   "outputs": [],
   "source": [
    "%pip install moviepy"
   ]
  },
  {
   "cell_type": "code",
   "execution_count": null,
   "metadata": {},
   "outputs": [],
   "source": [
    "import os\n",
    "import numpy as np\n",
    "from moviepy.editor import VideoFileClip"
   ]
  },
  {
   "cell_type": "markdown",
   "metadata": {},
   "source": [
    "# Clip extraction\n",
    "\n",
    "*Given a start and end time (i.e. for a piece, movement - the smallest 'continuous' segment of music)* \\\n",
    "*Window = 10 sec*\n",
    "\n",
    "Method 1. Sliding window, no overlap \\\n",
    "Method 2. Sliding window, overlap (___ sec) \\\n",
    "Method 3. Random sampling (____ clips per ____ sec segment)"
   ]
  },
  {
   "cell_type": "markdown",
   "metadata": {},
   "source": [
    "## Notes\n",
    "\n",
    "1. Videos are in 720p if possible, otherwise whatever's the highest i can get"
   ]
  },
  {
   "cell_type": "code",
   "execution_count": null,
   "metadata": {},
   "outputs": [],
   "source": [
    "filename = \"\"\n",
    "vid = VideoFileClip(filename)"
   ]
  },
  {
   "cell_type": "code",
   "execution_count": null,
   "metadata": {},
   "outputs": [],
   "source": [
    "root_dir = \"data\"\n",
    "frame_dir = os.path.join(root_dir, \"frames\")\n",
    "audio_dir = os.path.join(root_dir, \"audio\")\n",
    "\n",
    "if not os.path.exists(frame_dir):\n",
    "    os.makedirs(frame_dir)\n",
    "\n",
    "if not os.path.exists(audio_dir):\n",
    "    os.makedirs(audio_dir)"
   ]
  },
  {
   "cell_type": "code",
   "execution_count": null,
   "metadata": {},
   "outputs": [],
   "source": [
    "video_fps = 30"
   ]
  },
  {
   "cell_type": "markdown",
   "metadata": {},
   "source": [
    "## Segments so I don't forget\n",
    "\n",
    "Fast:\n",
    "1. La campanella: 0:05 to 4:25\n",
    "2. scarbo: 0:10 to 8:24\n",
    "3. \n",
    "\n",
    "Slow:\n",
    "1. tristesse: 0:05 to 4:10\n",
    "2. \n",
    "\n",
    "bit of both:\n",
    "1. chopin ballade: 0:05 to 9:25\n",
    "2. hammerklavier (full): 0:00 to 10:32, 10:39 to 13:09, 13:15 to 28:45, 29:00 to 39:29\n",
    "3. goldberg variations (full): 0:05 to 1:23:22\n",
    "4. \n",
    "\n",
    "AIM FOR 30 HOURS (a bit over 10k samples)"
   ]
  },
  {
   "cell_type": "code",
   "execution_count": null,
   "metadata": {},
   "outputs": [],
   "source": [
    "# Define segment of video to extract from\n",
    "start_sec = 0\n",
    "end_sec = 0\n",
    "\n",
    "dur = 10"
   ]
  },
  {
   "cell_type": "markdown",
   "metadata": {},
   "source": [
    "## Method 1"
   ]
  },
  {
   "cell_type": "code",
   "execution_count": null,
   "metadata": {},
   "outputs": [],
   "source": [
    "clip_counter = 0\n",
    "for i in range(start_sec, end_sec, dur):\n",
    "    \n",
    "    if (end_sec - i) < dur:\n",
    "        break\n",
    "    \n",
    "    clip_vid_dir = os.path.join(frame_dir, str(clip_counter))\n",
    "    if os.path.exists(clip_vid_dir):\n",
    "        os.makedirs(clip_vid_dir)\n",
    "\n",
    "    clip = vid.subclip(i, i+dur)\n",
    "\n",
    "    clip_audio = clip.audio\n",
    "\n",
    "    # extract, preprocess, and save frames\n",
    "    # TODO: optical flow, contouring?\n",
    "    frame_counter = 0\n",
    "    for frame in clip.iter_frames(fps=video_fps):\n",
    "        # frame is a H x W x N (N = 3 for RGB) np.array\n",
    "        frame_path = os.path.join(clip_vid_dir, str(frame_counter) + \".npy\")\n",
    "        np.save(frame_path, frame)\n",
    "        frame_counter += 1\n",
    "\n",
    "    clip_counter += 1"
   ]
  }
 ],
 "metadata": {
  "language_info": {
   "name": "python"
  }
 },
 "nbformat": 4,
 "nbformat_minor": 2
}
