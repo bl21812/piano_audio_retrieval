{
 "cells": [
  {
   "cell_type": "code",
   "execution_count": 29,
   "metadata": {},
   "outputs": [],
   "source": [
    "import os\n",
    "import numpy as np\n",
    "import pandas as pd\n",
    "from moviepy.editor import VideoFileClip"
   ]
  },
  {
   "cell_type": "markdown",
   "metadata": {},
   "source": [
    "# Clip extraction\n",
    "\n",
    "*Given a start and end time (i.e. for a piece, movement - the smallest 'continuous' segment of music)* \\\n",
    "*Window = 10 sec*\n",
    "\n",
    "Method 1. Sliding window, no overlap \\\n",
    "Method 2. Sliding window, overlap (___ sec) \\\n",
    "Method 3. Random sampling (____ clips per ____ sec segment)"
   ]
  },
  {
   "cell_type": "markdown",
   "metadata": {},
   "source": [
    "## Notes\n",
    "\n",
    "1. Videos are in 720p if possible, otherwise whatever's the highest i can get"
   ]
  },
  {
   "cell_type": "markdown",
   "metadata": {},
   "source": [
    "CELLS TO RUN TO START A NEW PIECE"
   ]
  },
  {
   "cell_type": "code",
   "execution_count": 86,
   "metadata": {},
   "outputs": [],
   "source": [
    "video_dir = \"data/raw/\"\n",
    "filename = \"beethoven_pastoral_park.mp4\"\n",
    "vid = VideoFileClip(os.path.join(video_dir, filename))"
   ]
  },
  {
   "cell_type": "code",
   "execution_count": 87,
   "metadata": {},
   "outputs": [],
   "source": [
    "# reset to 0 when starting a new piece\n",
    "clip_counter = 0"
   ]
  },
  {
   "cell_type": "markdown",
   "metadata": {},
   "source": [
    "RUN FOR EACH SEGMENT"
   ]
  },
  {
   "cell_type": "code",
   "execution_count": 92,
   "metadata": {},
   "outputs": [],
   "source": [
    "# Define segment of video to extract from\n",
    "start_sec = 16 * 60 + 26\n",
    "end_sec = 23 * 60 + 1"
   ]
  },
  {
   "cell_type": "markdown",
   "metadata": {},
   "source": [
    "Setup (only run once)"
   ]
  },
  {
   "cell_type": "code",
   "execution_count": null,
   "metadata": {},
   "outputs": [],
   "source": [
    "dur = 10\n",
    "audio_subclip_dur = 2  # duration of audio subclips (for video llama) in seconds"
   ]
  },
  {
   "cell_type": "code",
   "execution_count": 4,
   "metadata": {},
   "outputs": [],
   "source": [
    "root_dir = \"data/\"\n",
    "clip_dir = os.path.join(root_dir, \"clips\")\n",
    "audio_dir = os.path.join(root_dir, \"audio\")\n",
    "\n",
    "if not os.path.exists(clip_dir):\n",
    "    os.makedirs(clip_dir)\n",
    "\n",
    "if not os.path.exists(audio_dir):\n",
    "    os.makedirs(audio_dir)"
   ]
  },
  {
   "cell_type": "code",
   "execution_count": 5,
   "metadata": {},
   "outputs": [],
   "source": [
    "video_fps = 30"
   ]
  },
  {
   "cell_type": "markdown",
   "metadata": {},
   "source": [
    "## Segments so I don't forget\n",
    "\n",
    "Current total (approx): 9 hr 40 min\n",
    "\n",
    "Fast:\n",
    "1. La campanella: 0:05 to 4:25 ~\n",
    "2. scarbo: 0:10 to 8:24 ~\n",
    "3. hungarian rhapsody 2: 0:08 to 9:04\n",
    "4. \n",
    "\n",
    "Slow:\n",
    "1. tristesse: 0:05 to 4:10 ~\n",
    "2. arabesque 1 (debussy): 0:00 to 4:21 ~\n",
    "3. handel g minor minuet: 0:00 to 3:31 ~\n",
    "4. \n",
    "5. \n",
    "\n",
    "bit of both:\n",
    "1. chopin ballade: 0:05 to 9:25 ~\n",
    "2. hammerklavier (full): 0:00 to 10:32, 10:39 to 13:09, 13:15 to 28:45, 29:00 to 39:29 ~\n",
    "3. goldberg variations (full): 0:05 to 1:23:22 ~\n",
    "4. italian concerto (full): 0:11 to 3:52, 4:00 to 8:06, 8:51 to 11:54 ~\n",
    "5. bach WTC book 1 (full): 0:24 to 2:05:15 ~\n",
    "6. appassionata (full): 0:02 to 9:27, 9:37 to 22:47 ~\n",
    "7. pathetique (full): 0:12 to 8:44, 9:04 to 13:40, 13:49 to 18:17 ~\n",
    "8. waldstein (full): 0:53 to 9:10, 9:31 to 9:43, 10:24 to 12:00, 12:25 to 13:29, 14:12 to 23:45 ~\n",
    "9. moonlight sonata (full): 0:46 to 9:02, 9:09 to 14:46 ~\n",
    "10. pastoral sonata (full): 0:09 to 9:26, 9:35 to 16:16, 16:26 to 23:01 ~\n",
    "11. mozart sonata 8 (full): 0:25 to 5:55, 6:13 to 15:38, 15:48 to 18:42\n",
    "12. mozart sonata 1 (full): 0:39 to 7:22, 7:33 to 14:50, 15:05 to 20:02\n",
    "13. mozart sonata 3 (full): 0:02 to 6:35, 6:41 to 13:41, 13:47 to 18:24\n",
    "14. mozart sonata 12 (full): 0:05 to 4:57, 5:15 to 9:48, 10:00 to 15:16\n",
    "15. mozart sonata 6 (full): 0:03 to 3:41, 3:48 to 9:39, 9:49 to 22:04\n",
    "16. mozart sonata 10 (full): 0:11 to 2:36, 2:56 to 4:43, 5:03 to 6:01, 6:14 to 11:38, 12:02 to 15:26\n",
    "17. liszt sonata: 0:07 to 32:30\n",
    "18. liszt paganini etudes (full): 0:03 to 4:37, 4:55 to 6:05, 6:22 to 8:07, 8:19 to 9:40, 14:29 to 15:57, 16:14 to 16:26, 16:33 to 17:16, 17:40 to 19:33, 19:45 to 23:05, 23:28 to 24:41\n",
    "19. annees de pelerinage: 0:40 to 7:15, 7:55 to 10:27, 10:39 to 22:04, 23:35 to 24:10, 28:36 to 32:29, 32:59 to 37:03, 37:32 to 41:23, 42:15 to 43:00, 43:35 to 45:40, 45:59 to 47:25, 47:39 to 53:31\n",
    "20. \n",
    "\n",
    "its actually about 500 samples an hour ?? \\\n",
    "... so aim for 20 hrs?"
   ]
  },
  {
   "cell_type": "markdown",
   "metadata": {},
   "source": [
    "## Method 1"
   ]
  },
  {
   "cell_type": "code",
   "execution_count": 93,
   "metadata": {},
   "outputs": [
    {
     "name": "stderr",
     "output_type": "stream",
     "text": [
      "t:  39%|███▉      | 117/300 [13:06:17<00:05, 32.09it/s, now=None]"
     ]
    },
    {
     "name": "stdout",
     "output_type": "stream",
     "text": [
      "Moviepy - Building video data/clips\\beethoven_pastoral_park_95.mp4.\n",
      "Moviepy - Writing video data/clips\\beethoven_pastoral_park_95.mp4\n",
      "\n"
     ]
    },
    {
     "name": "stderr",
     "output_type": "stream",
     "text": [
      "t:  39%|███▉      | 117/300 [13:06:26<00:05, 32.09it/s, now=None]"
     ]
    },
    {
     "name": "stdout",
     "output_type": "stream",
     "text": [
      "Moviepy - Done !\n",
      "Moviepy - video ready data/clips\\beethoven_pastoral_park_95.mp4\n",
      "MoviePy - Writing audio in data/audio\\beethoven_pastoral_park_95.wav\n"
     ]
    },
    {
     "name": "stderr",
     "output_type": "stream",
     "text": [
      "t:  39%|███▉      | 117/300 [13:06:27<00:05, 32.09it/s, now=None]"
     ]
    },
    {
     "name": "stdout",
     "output_type": "stream",
     "text": [
      "MoviePy - Done.\n",
      "Moviepy - Building video data/clips\\beethoven_pastoral_park_96.mp4.\n",
      "Moviepy - Writing video data/clips\\beethoven_pastoral_park_96.mp4\n",
      "\n"
     ]
    },
    {
     "name": "stderr",
     "output_type": "stream",
     "text": [
      "t:  39%|███▉      | 117/300 [13:06:36<00:05, 32.09it/s, now=None]"
     ]
    },
    {
     "name": "stdout",
     "output_type": "stream",
     "text": [
      "Moviepy - Done !\n",
      "Moviepy - video ready data/clips\\beethoven_pastoral_park_96.mp4\n",
      "MoviePy - Writing audio in data/audio\\beethoven_pastoral_park_96.wav\n"
     ]
    },
    {
     "name": "stderr",
     "output_type": "stream",
     "text": [
      "t:  39%|███▉      | 117/300 [13:06:37<00:05, 32.09it/s, now=None]"
     ]
    },
    {
     "name": "stdout",
     "output_type": "stream",
     "text": [
      "MoviePy - Done.\n",
      "Moviepy - Building video data/clips\\beethoven_pastoral_park_97.mp4.\n",
      "Moviepy - Writing video data/clips\\beethoven_pastoral_park_97.mp4\n",
      "\n"
     ]
    },
    {
     "name": "stderr",
     "output_type": "stream",
     "text": [
      "t:  39%|███▉      | 117/300 [13:06:49<00:05, 32.09it/s, now=None]"
     ]
    },
    {
     "name": "stdout",
     "output_type": "stream",
     "text": [
      "Moviepy - Done !\n",
      "Moviepy - video ready data/clips\\beethoven_pastoral_park_97.mp4\n",
      "MoviePy - Writing audio in data/audio\\beethoven_pastoral_park_97.wav\n"
     ]
    },
    {
     "name": "stderr",
     "output_type": "stream",
     "text": [
      "t:  39%|███▉      | 117/300 [13:06:49<00:05, 32.09it/s, now=None]"
     ]
    },
    {
     "name": "stdout",
     "output_type": "stream",
     "text": [
      "MoviePy - Done.\n",
      "Moviepy - Building video data/clips\\beethoven_pastoral_park_98.mp4.\n",
      "Moviepy - Writing video data/clips\\beethoven_pastoral_park_98.mp4\n",
      "\n"
     ]
    },
    {
     "name": "stderr",
     "output_type": "stream",
     "text": [
      "t:  39%|███▉      | 117/300 [13:07:00<00:05, 32.09it/s, now=None]"
     ]
    },
    {
     "name": "stdout",
     "output_type": "stream",
     "text": [
      "Moviepy - Done !\n",
      "Moviepy - video ready data/clips\\beethoven_pastoral_park_98.mp4\n",
      "MoviePy - Writing audio in data/audio\\beethoven_pastoral_park_98.wav\n"
     ]
    },
    {
     "name": "stderr",
     "output_type": "stream",
     "text": [
      "t:  39%|███▉      | 117/300 [13:07:00<00:05, 32.09it/s, now=None]"
     ]
    },
    {
     "name": "stdout",
     "output_type": "stream",
     "text": [
      "MoviePy - Done.\n",
      "Moviepy - Building video data/clips\\beethoven_pastoral_park_99.mp4.\n",
      "Moviepy - Writing video data/clips\\beethoven_pastoral_park_99.mp4\n",
      "\n"
     ]
    },
    {
     "name": "stderr",
     "output_type": "stream",
     "text": [
      "t:  39%|███▉      | 117/300 [13:07:12<00:05, 32.09it/s, now=None]"
     ]
    },
    {
     "name": "stdout",
     "output_type": "stream",
     "text": [
      "Moviepy - Done !\n",
      "Moviepy - video ready data/clips\\beethoven_pastoral_park_99.mp4\n",
      "MoviePy - Writing audio in data/audio\\beethoven_pastoral_park_99.wav\n"
     ]
    },
    {
     "name": "stderr",
     "output_type": "stream",
     "text": [
      "t:  39%|███▉      | 117/300 [13:07:13<00:05, 32.09it/s, now=None]"
     ]
    },
    {
     "name": "stdout",
     "output_type": "stream",
     "text": [
      "MoviePy - Done.\n",
      "Moviepy - Building video data/clips\\beethoven_pastoral_park_100.mp4.\n",
      "Moviepy - Writing video data/clips\\beethoven_pastoral_park_100.mp4\n",
      "\n"
     ]
    },
    {
     "name": "stderr",
     "output_type": "stream",
     "text": [
      "t:  39%|███▉      | 117/300 [13:07:22<00:05, 32.09it/s, now=None]"
     ]
    },
    {
     "name": "stdout",
     "output_type": "stream",
     "text": [
      "Moviepy - Done !\n",
      "Moviepy - video ready data/clips\\beethoven_pastoral_park_100.mp4\n",
      "MoviePy - Writing audio in data/audio\\beethoven_pastoral_park_100.wav\n"
     ]
    },
    {
     "name": "stderr",
     "output_type": "stream",
     "text": [
      "t:  39%|███▉      | 117/300 [13:07:22<00:05, 32.09it/s, now=None]"
     ]
    },
    {
     "name": "stdout",
     "output_type": "stream",
     "text": [
      "MoviePy - Done.\n",
      "Moviepy - Building video data/clips\\beethoven_pastoral_park_101.mp4.\n",
      "Moviepy - Writing video data/clips\\beethoven_pastoral_park_101.mp4\n",
      "\n"
     ]
    },
    {
     "name": "stderr",
     "output_type": "stream",
     "text": [
      "t:  39%|███▉      | 117/300 [13:07:33<00:05, 32.09it/s, now=None]"
     ]
    },
    {
     "name": "stdout",
     "output_type": "stream",
     "text": [
      "Moviepy - Done !\n",
      "Moviepy - video ready data/clips\\beethoven_pastoral_park_101.mp4\n",
      "MoviePy - Writing audio in data/audio\\beethoven_pastoral_park_101.wav\n"
     ]
    },
    {
     "name": "stderr",
     "output_type": "stream",
     "text": [
      "t:  39%|███▉      | 117/300 [13:07:34<00:05, 32.09it/s, now=None]"
     ]
    },
    {
     "name": "stdout",
     "output_type": "stream",
     "text": [
      "MoviePy - Done.\n",
      "Moviepy - Building video data/clips\\beethoven_pastoral_park_102.mp4.\n",
      "Moviepy - Writing video data/clips\\beethoven_pastoral_park_102.mp4\n",
      "\n"
     ]
    },
    {
     "name": "stderr",
     "output_type": "stream",
     "text": [
      "t:  39%|███▉      | 117/300 [13:07:46<00:05, 32.09it/s, now=None]"
     ]
    },
    {
     "name": "stdout",
     "output_type": "stream",
     "text": [
      "Moviepy - Done !\n",
      "Moviepy - video ready data/clips\\beethoven_pastoral_park_102.mp4\n",
      "MoviePy - Writing audio in data/audio\\beethoven_pastoral_park_102.wav\n"
     ]
    },
    {
     "name": "stderr",
     "output_type": "stream",
     "text": [
      "t:  39%|███▉      | 117/300 [13:07:46<00:05, 32.09it/s, now=None]"
     ]
    },
    {
     "name": "stdout",
     "output_type": "stream",
     "text": [
      "MoviePy - Done.\n",
      "Moviepy - Building video data/clips\\beethoven_pastoral_park_103.mp4.\n",
      "Moviepy - Writing video data/clips\\beethoven_pastoral_park_103.mp4\n",
      "\n"
     ]
    },
    {
     "name": "stderr",
     "output_type": "stream",
     "text": [
      "t:  39%|███▉      | 117/300 [13:07:58<00:05, 32.09it/s, now=None]"
     ]
    },
    {
     "name": "stdout",
     "output_type": "stream",
     "text": [
      "Moviepy - Done !\n",
      "Moviepy - video ready data/clips\\beethoven_pastoral_park_103.mp4\n",
      "MoviePy - Writing audio in data/audio\\beethoven_pastoral_park_103.wav\n"
     ]
    },
    {
     "name": "stderr",
     "output_type": "stream",
     "text": [
      "t:  39%|███▉      | 117/300 [13:07:59<00:05, 32.09it/s, now=None]"
     ]
    },
    {
     "name": "stdout",
     "output_type": "stream",
     "text": [
      "MoviePy - Done.\n",
      "Moviepy - Building video data/clips\\beethoven_pastoral_park_104.mp4.\n",
      "Moviepy - Writing video data/clips\\beethoven_pastoral_park_104.mp4\n",
      "\n"
     ]
    },
    {
     "name": "stderr",
     "output_type": "stream",
     "text": [
      "t:  39%|███▉      | 117/300 [13:08:12<00:05, 32.09it/s, now=None]"
     ]
    },
    {
     "name": "stdout",
     "output_type": "stream",
     "text": [
      "Moviepy - Done !\n",
      "Moviepy - video ready data/clips\\beethoven_pastoral_park_104.mp4\n",
      "MoviePy - Writing audio in data/audio\\beethoven_pastoral_park_104.wav\n"
     ]
    },
    {
     "name": "stderr",
     "output_type": "stream",
     "text": [
      "t:  39%|███▉      | 117/300 [13:08:12<00:05, 32.09it/s, now=None]"
     ]
    },
    {
     "name": "stdout",
     "output_type": "stream",
     "text": [
      "MoviePy - Done.\n",
      "Moviepy - Building video data/clips\\beethoven_pastoral_park_105.mp4.\n",
      "Moviepy - Writing video data/clips\\beethoven_pastoral_park_105.mp4\n",
      "\n"
     ]
    },
    {
     "name": "stderr",
     "output_type": "stream",
     "text": [
      "t:  39%|███▉      | 117/300 [13:08:31<00:05, 32.09it/s, now=None]"
     ]
    },
    {
     "name": "stdout",
     "output_type": "stream",
     "text": [
      "Moviepy - Done !\n",
      "Moviepy - video ready data/clips\\beethoven_pastoral_park_105.mp4\n",
      "MoviePy - Writing audio in data/audio\\beethoven_pastoral_park_105.wav\n"
     ]
    },
    {
     "name": "stderr",
     "output_type": "stream",
     "text": [
      "t:  39%|███▉      | 117/300 [13:08:31<00:05, 32.09it/s, now=None]"
     ]
    },
    {
     "name": "stdout",
     "output_type": "stream",
     "text": [
      "MoviePy - Done.\n",
      "Moviepy - Building video data/clips\\beethoven_pastoral_park_106.mp4.\n",
      "Moviepy - Writing video data/clips\\beethoven_pastoral_park_106.mp4\n",
      "\n"
     ]
    },
    {
     "name": "stderr",
     "output_type": "stream",
     "text": [
      "t:  39%|███▉      | 117/300 [13:08:42<00:05, 32.09it/s, now=None]"
     ]
    },
    {
     "name": "stdout",
     "output_type": "stream",
     "text": [
      "Moviepy - Done !\n",
      "Moviepy - video ready data/clips\\beethoven_pastoral_park_106.mp4\n",
      "MoviePy - Writing audio in data/audio\\beethoven_pastoral_park_106.wav\n"
     ]
    },
    {
     "name": "stderr",
     "output_type": "stream",
     "text": [
      "t:  39%|███▉      | 117/300 [13:08:43<00:05, 32.09it/s, now=None]"
     ]
    },
    {
     "name": "stdout",
     "output_type": "stream",
     "text": [
      "MoviePy - Done.\n",
      "Moviepy - Building video data/clips\\beethoven_pastoral_park_107.mp4.\n",
      "Moviepy - Writing video data/clips\\beethoven_pastoral_park_107.mp4\n",
      "\n"
     ]
    },
    {
     "name": "stderr",
     "output_type": "stream",
     "text": [
      "t:  39%|███▉      | 117/300 [13:08:54<00:05, 32.09it/s, now=None]"
     ]
    },
    {
     "name": "stdout",
     "output_type": "stream",
     "text": [
      "Moviepy - Done !\n",
      "Moviepy - video ready data/clips\\beethoven_pastoral_park_107.mp4\n",
      "MoviePy - Writing audio in data/audio\\beethoven_pastoral_park_107.wav\n"
     ]
    },
    {
     "name": "stderr",
     "output_type": "stream",
     "text": [
      "t:  39%|███▉      | 117/300 [13:08:54<00:05, 32.09it/s, now=None]"
     ]
    },
    {
     "name": "stdout",
     "output_type": "stream",
     "text": [
      "MoviePy - Done.\n",
      "Moviepy - Building video data/clips\\beethoven_pastoral_park_108.mp4.\n",
      "Moviepy - Writing video data/clips\\beethoven_pastoral_park_108.mp4\n",
      "\n"
     ]
    },
    {
     "name": "stderr",
     "output_type": "stream",
     "text": [
      "t:  39%|███▉      | 117/300 [13:09:04<00:05, 32.09it/s, now=None]"
     ]
    },
    {
     "name": "stdout",
     "output_type": "stream",
     "text": [
      "Moviepy - Done !\n",
      "Moviepy - video ready data/clips\\beethoven_pastoral_park_108.mp4\n",
      "MoviePy - Writing audio in data/audio\\beethoven_pastoral_park_108.wav\n"
     ]
    },
    {
     "name": "stderr",
     "output_type": "stream",
     "text": [
      "t:  39%|███▉      | 117/300 [13:09:05<00:05, 32.09it/s, now=None]"
     ]
    },
    {
     "name": "stdout",
     "output_type": "stream",
     "text": [
      "MoviePy - Done.\n",
      "Moviepy - Building video data/clips\\beethoven_pastoral_park_109.mp4.\n",
      "Moviepy - Writing video data/clips\\beethoven_pastoral_park_109.mp4\n",
      "\n"
     ]
    },
    {
     "name": "stderr",
     "output_type": "stream",
     "text": [
      "t:  39%|███▉      | 117/300 [13:09:17<00:05, 32.09it/s, now=None]"
     ]
    },
    {
     "name": "stdout",
     "output_type": "stream",
     "text": [
      "Moviepy - Done !\n",
      "Moviepy - video ready data/clips\\beethoven_pastoral_park_109.mp4\n",
      "MoviePy - Writing audio in data/audio\\beethoven_pastoral_park_109.wav\n"
     ]
    },
    {
     "name": "stderr",
     "output_type": "stream",
     "text": [
      "t:  39%|███▉      | 117/300 [13:09:18<00:05, 32.09it/s, now=None]"
     ]
    },
    {
     "name": "stdout",
     "output_type": "stream",
     "text": [
      "MoviePy - Done.\n",
      "Moviepy - Building video data/clips\\beethoven_pastoral_park_110.mp4.\n",
      "Moviepy - Writing video data/clips\\beethoven_pastoral_park_110.mp4\n",
      "\n"
     ]
    },
    {
     "name": "stderr",
     "output_type": "stream",
     "text": [
      "t:  39%|███▉      | 117/300 [13:09:28<00:05, 32.09it/s, now=None]"
     ]
    },
    {
     "name": "stdout",
     "output_type": "stream",
     "text": [
      "Moviepy - Done !\n",
      "Moviepy - video ready data/clips\\beethoven_pastoral_park_110.mp4\n",
      "MoviePy - Writing audio in data/audio\\beethoven_pastoral_park_110.wav\n"
     ]
    },
    {
     "name": "stderr",
     "output_type": "stream",
     "text": [
      "t:  39%|███▉      | 117/300 [13:09:28<00:05, 32.09it/s, now=None]"
     ]
    },
    {
     "name": "stdout",
     "output_type": "stream",
     "text": [
      "MoviePy - Done.\n",
      "Moviepy - Building video data/clips\\beethoven_pastoral_park_111.mp4.\n",
      "Moviepy - Writing video data/clips\\beethoven_pastoral_park_111.mp4\n",
      "\n"
     ]
    },
    {
     "name": "stderr",
     "output_type": "stream",
     "text": [
      "t:  39%|███▉      | 117/300 [13:09:41<00:05, 32.09it/s, now=None]"
     ]
    },
    {
     "name": "stdout",
     "output_type": "stream",
     "text": [
      "Moviepy - Done !\n",
      "Moviepy - video ready data/clips\\beethoven_pastoral_park_111.mp4\n",
      "MoviePy - Writing audio in data/audio\\beethoven_pastoral_park_111.wav\n"
     ]
    },
    {
     "name": "stderr",
     "output_type": "stream",
     "text": [
      "t:  39%|███▉      | 117/300 [13:09:42<00:05, 32.09it/s, now=None]"
     ]
    },
    {
     "name": "stdout",
     "output_type": "stream",
     "text": [
      "MoviePy - Done.\n",
      "Moviepy - Building video data/clips\\beethoven_pastoral_park_112.mp4.\n",
      "Moviepy - Writing video data/clips\\beethoven_pastoral_park_112.mp4\n",
      "\n"
     ]
    },
    {
     "name": "stderr",
     "output_type": "stream",
     "text": [
      "t:  39%|███▉      | 117/300 [13:09:54<00:05, 32.09it/s, now=None]"
     ]
    },
    {
     "name": "stdout",
     "output_type": "stream",
     "text": [
      "Moviepy - Done !\n",
      "Moviepy - video ready data/clips\\beethoven_pastoral_park_112.mp4\n",
      "MoviePy - Writing audio in data/audio\\beethoven_pastoral_park_112.wav\n"
     ]
    },
    {
     "name": "stderr",
     "output_type": "stream",
     "text": [
      "t:  39%|███▉      | 117/300 [13:09:55<00:05, 32.09it/s, now=None]"
     ]
    },
    {
     "name": "stdout",
     "output_type": "stream",
     "text": [
      "MoviePy - Done.\n",
      "Moviepy - Building video data/clips\\beethoven_pastoral_park_113.mp4.\n",
      "Moviepy - Writing video data/clips\\beethoven_pastoral_park_113.mp4\n",
      "\n"
     ]
    },
    {
     "name": "stderr",
     "output_type": "stream",
     "text": [
      "t:  39%|███▉      | 117/300 [13:10:08<00:05, 32.09it/s, now=None]"
     ]
    },
    {
     "name": "stdout",
     "output_type": "stream",
     "text": [
      "Moviepy - Done !\n",
      "Moviepy - video ready data/clips\\beethoven_pastoral_park_113.mp4\n",
      "MoviePy - Writing audio in data/audio\\beethoven_pastoral_park_113.wav\n"
     ]
    },
    {
     "name": "stderr",
     "output_type": "stream",
     "text": [
      "t:  39%|███▉      | 117/300 [13:10:08<00:05, 32.09it/s, now=None]"
     ]
    },
    {
     "name": "stdout",
     "output_type": "stream",
     "text": [
      "MoviePy - Done.\n",
      "Moviepy - Building video data/clips\\beethoven_pastoral_park_114.mp4.\n",
      "Moviepy - Writing video data/clips\\beethoven_pastoral_park_114.mp4\n",
      "\n"
     ]
    },
    {
     "name": "stderr",
     "output_type": "stream",
     "text": [
      "t:  39%|███▉      | 117/300 [13:10:17<00:05, 32.09it/s, now=None]"
     ]
    },
    {
     "name": "stdout",
     "output_type": "stream",
     "text": [
      "Moviepy - Done !\n",
      "Moviepy - video ready data/clips\\beethoven_pastoral_park_114.mp4\n",
      "MoviePy - Writing audio in data/audio\\beethoven_pastoral_park_114.wav\n"
     ]
    },
    {
     "name": "stderr",
     "output_type": "stream",
     "text": [
      "t:  39%|███▉      | 117/300 [13:10:18<00:05, 32.09it/s, now=None]"
     ]
    },
    {
     "name": "stdout",
     "output_type": "stream",
     "text": [
      "MoviePy - Done.\n",
      "Moviepy - Building video data/clips\\beethoven_pastoral_park_115.mp4.\n",
      "Moviepy - Writing video data/clips\\beethoven_pastoral_park_115.mp4\n",
      "\n"
     ]
    },
    {
     "name": "stderr",
     "output_type": "stream",
     "text": [
      "t:  39%|███▉      | 117/300 [13:10:27<00:05, 32.09it/s, now=None]"
     ]
    },
    {
     "name": "stdout",
     "output_type": "stream",
     "text": [
      "Moviepy - Done !\n",
      "Moviepy - video ready data/clips\\beethoven_pastoral_park_115.mp4\n",
      "MoviePy - Writing audio in data/audio\\beethoven_pastoral_park_115.wav\n"
     ]
    },
    {
     "name": "stderr",
     "output_type": "stream",
     "text": [
      "t:  39%|███▉      | 117/300 [13:10:28<00:05, 32.09it/s, now=None]"
     ]
    },
    {
     "name": "stdout",
     "output_type": "stream",
     "text": [
      "MoviePy - Done.\n",
      "Moviepy - Building video data/clips\\beethoven_pastoral_park_116.mp4.\n",
      "Moviepy - Writing video data/clips\\beethoven_pastoral_park_116.mp4\n",
      "\n"
     ]
    },
    {
     "name": "stderr",
     "output_type": "stream",
     "text": [
      "t:  39%|███▉      | 117/300 [13:10:38<00:05, 32.09it/s, now=None]"
     ]
    },
    {
     "name": "stdout",
     "output_type": "stream",
     "text": [
      "Moviepy - Done !\n",
      "Moviepy - video ready data/clips\\beethoven_pastoral_park_116.mp4\n",
      "MoviePy - Writing audio in data/audio\\beethoven_pastoral_park_116.wav\n"
     ]
    },
    {
     "name": "stderr",
     "output_type": "stream",
     "text": [
      "t:  39%|███▉      | 117/300 [13:10:39<00:05, 32.09it/s, now=None]"
     ]
    },
    {
     "name": "stdout",
     "output_type": "stream",
     "text": [
      "MoviePy - Done.\n",
      "Moviepy - Building video data/clips\\beethoven_pastoral_park_117.mp4.\n",
      "Moviepy - Writing video data/clips\\beethoven_pastoral_park_117.mp4\n",
      "\n"
     ]
    },
    {
     "name": "stderr",
     "output_type": "stream",
     "text": [
      "t:  39%|███▉      | 117/300 [13:10:50<00:05, 32.09it/s, now=None]"
     ]
    },
    {
     "name": "stdout",
     "output_type": "stream",
     "text": [
      "Moviepy - Done !\n",
      "Moviepy - video ready data/clips\\beethoven_pastoral_park_117.mp4\n",
      "MoviePy - Writing audio in data/audio\\beethoven_pastoral_park_117.wav\n"
     ]
    },
    {
     "name": "stderr",
     "output_type": "stream",
     "text": [
      "t:  39%|███▉      | 117/300 [13:10:50<00:05, 32.09it/s, now=None]"
     ]
    },
    {
     "name": "stdout",
     "output_type": "stream",
     "text": [
      "MoviePy - Done.\n",
      "Moviepy - Building video data/clips\\beethoven_pastoral_park_118.mp4.\n",
      "Moviepy - Writing video data/clips\\beethoven_pastoral_park_118.mp4\n",
      "\n"
     ]
    },
    {
     "name": "stderr",
     "output_type": "stream",
     "text": [
      "t:  39%|███▉      | 117/300 [13:11:01<00:05, 32.09it/s, now=None]"
     ]
    },
    {
     "name": "stdout",
     "output_type": "stream",
     "text": [
      "Moviepy - Done !\n",
      "Moviepy - video ready data/clips\\beethoven_pastoral_park_118.mp4\n",
      "MoviePy - Writing audio in data/audio\\beethoven_pastoral_park_118.wav\n"
     ]
    },
    {
     "name": "stderr",
     "output_type": "stream",
     "text": [
      "t:  39%|███▉      | 117/300 [13:11:01<00:05, 32.09it/s, now=None]"
     ]
    },
    {
     "name": "stdout",
     "output_type": "stream",
     "text": [
      "MoviePy - Done.\n",
      "Moviepy - Building video data/clips\\beethoven_pastoral_park_119.mp4.\n",
      "Moviepy - Writing video data/clips\\beethoven_pastoral_park_119.mp4\n",
      "\n"
     ]
    },
    {
     "name": "stderr",
     "output_type": "stream",
     "text": [
      "t:  39%|███▉      | 117/300 [13:11:11<00:05, 32.09it/s, now=None]"
     ]
    },
    {
     "name": "stdout",
     "output_type": "stream",
     "text": [
      "Moviepy - Done !\n",
      "Moviepy - video ready data/clips\\beethoven_pastoral_park_119.mp4\n",
      "MoviePy - Writing audio in data/audio\\beethoven_pastoral_park_119.wav\n"
     ]
    },
    {
     "name": "stderr",
     "output_type": "stream",
     "text": [
      "t:  39%|███▉      | 117/300 [13:11:12<00:05, 32.09it/s, now=None]"
     ]
    },
    {
     "name": "stdout",
     "output_type": "stream",
     "text": [
      "MoviePy - Done.\n",
      "Moviepy - Building video data/clips\\beethoven_pastoral_park_120.mp4.\n",
      "Moviepy - Writing video data/clips\\beethoven_pastoral_park_120.mp4\n",
      "\n"
     ]
    },
    {
     "name": "stderr",
     "output_type": "stream",
     "text": [
      "t:  39%|███▉      | 117/300 [13:11:24<00:05, 32.09it/s, now=None]"
     ]
    },
    {
     "name": "stdout",
     "output_type": "stream",
     "text": [
      "Moviepy - Done !\n",
      "Moviepy - video ready data/clips\\beethoven_pastoral_park_120.mp4\n",
      "MoviePy - Writing audio in data/audio\\beethoven_pastoral_park_120.wav\n"
     ]
    },
    {
     "name": "stderr",
     "output_type": "stream",
     "text": [
      "t:  39%|███▉      | 117/300 [13:11:24<00:05, 32.09it/s, now=None]"
     ]
    },
    {
     "name": "stdout",
     "output_type": "stream",
     "text": [
      "MoviePy - Done.\n",
      "Moviepy - Building video data/clips\\beethoven_pastoral_park_121.mp4.\n",
      "Moviepy - Writing video data/clips\\beethoven_pastoral_park_121.mp4\n",
      "\n"
     ]
    },
    {
     "name": "stderr",
     "output_type": "stream",
     "text": [
      "t:  39%|███▉      | 117/300 [13:11:34<00:05, 32.09it/s, now=None]"
     ]
    },
    {
     "name": "stdout",
     "output_type": "stream",
     "text": [
      "Moviepy - Done !\n",
      "Moviepy - video ready data/clips\\beethoven_pastoral_park_121.mp4\n",
      "MoviePy - Writing audio in data/audio\\beethoven_pastoral_park_121.wav\n"
     ]
    },
    {
     "name": "stderr",
     "output_type": "stream",
     "text": [
      "t:  39%|███▉      | 117/300 [13:11:35<00:05, 32.09it/s, now=None]"
     ]
    },
    {
     "name": "stdout",
     "output_type": "stream",
     "text": [
      "MoviePy - Done.\n",
      "Moviepy - Building video data/clips\\beethoven_pastoral_park_122.mp4.\n",
      "Moviepy - Writing video data/clips\\beethoven_pastoral_park_122.mp4\n",
      "\n"
     ]
    },
    {
     "name": "stderr",
     "output_type": "stream",
     "text": [
      "t:  39%|███▉      | 117/300 [13:11:43<00:05, 32.09it/s, now=None]"
     ]
    },
    {
     "name": "stdout",
     "output_type": "stream",
     "text": [
      "Moviepy - Done !\n",
      "Moviepy - video ready data/clips\\beethoven_pastoral_park_122.mp4\n",
      "MoviePy - Writing audio in data/audio\\beethoven_pastoral_park_122.wav\n"
     ]
    },
    {
     "name": "stderr",
     "output_type": "stream",
     "text": [
      "t:  39%|███▉      | 117/300 [13:11:44<00:05, 32.09it/s, now=None]"
     ]
    },
    {
     "name": "stdout",
     "output_type": "stream",
     "text": [
      "MoviePy - Done.\n",
      "Moviepy - Building video data/clips\\beethoven_pastoral_park_123.mp4.\n",
      "Moviepy - Writing video data/clips\\beethoven_pastoral_park_123.mp4\n",
      "\n"
     ]
    },
    {
     "name": "stderr",
     "output_type": "stream",
     "text": [
      "t:  39%|███▉      | 117/300 [13:11:52<00:05, 32.09it/s, now=None]"
     ]
    },
    {
     "name": "stdout",
     "output_type": "stream",
     "text": [
      "Moviepy - Done !\n",
      "Moviepy - video ready data/clips\\beethoven_pastoral_park_123.mp4\n",
      "MoviePy - Writing audio in data/audio\\beethoven_pastoral_park_123.wav\n"
     ]
    },
    {
     "name": "stderr",
     "output_type": "stream",
     "text": [
      "t:  39%|███▉      | 117/300 [13:11:52<00:05, 32.09it/s, now=None]"
     ]
    },
    {
     "name": "stdout",
     "output_type": "stream",
     "text": [
      "MoviePy - Done.\n",
      "Moviepy - Building video data/clips\\beethoven_pastoral_park_124.mp4.\n",
      "Moviepy - Writing video data/clips\\beethoven_pastoral_park_124.mp4\n",
      "\n"
     ]
    },
    {
     "name": "stderr",
     "output_type": "stream",
     "text": [
      "t:  39%|███▉      | 117/300 [13:12:01<00:05, 32.09it/s, now=None]"
     ]
    },
    {
     "name": "stdout",
     "output_type": "stream",
     "text": [
      "Moviepy - Done !\n",
      "Moviepy - video ready data/clips\\beethoven_pastoral_park_124.mp4\n",
      "MoviePy - Writing audio in data/audio\\beethoven_pastoral_park_124.wav\n"
     ]
    },
    {
     "name": "stderr",
     "output_type": "stream",
     "text": [
      "t:  39%|███▉      | 117/300 [13:12:01<00:05, 32.09it/s, now=None]"
     ]
    },
    {
     "name": "stdout",
     "output_type": "stream",
     "text": [
      "MoviePy - Done.\n",
      "Moviepy - Building video data/clips\\beethoven_pastoral_park_125.mp4.\n",
      "Moviepy - Writing video data/clips\\beethoven_pastoral_park_125.mp4\n",
      "\n"
     ]
    },
    {
     "name": "stderr",
     "output_type": "stream",
     "text": [
      "t:  39%|███▉      | 117/300 [13:12:12<00:05, 32.09it/s, now=None]"
     ]
    },
    {
     "name": "stdout",
     "output_type": "stream",
     "text": [
      "Moviepy - Done !\n",
      "Moviepy - video ready data/clips\\beethoven_pastoral_park_125.mp4\n",
      "MoviePy - Writing audio in data/audio\\beethoven_pastoral_park_125.wav\n"
     ]
    },
    {
     "name": "stderr",
     "output_type": "stream",
     "text": [
      "t:  39%|███▉      | 117/300 [13:12:13<00:05, 32.09it/s, now=None]"
     ]
    },
    {
     "name": "stdout",
     "output_type": "stream",
     "text": [
      "MoviePy - Done.\n",
      "Moviepy - Building video data/clips\\beethoven_pastoral_park_126.mp4.\n",
      "Moviepy - Writing video data/clips\\beethoven_pastoral_park_126.mp4\n",
      "\n"
     ]
    },
    {
     "name": "stderr",
     "output_type": "stream",
     "text": [
      "t:  39%|███▉      | 117/300 [13:12:27<00:05, 32.09it/s, now=None]"
     ]
    },
    {
     "name": "stdout",
     "output_type": "stream",
     "text": [
      "Moviepy - Done !\n",
      "Moviepy - video ready data/clips\\beethoven_pastoral_park_126.mp4\n",
      "MoviePy - Writing audio in data/audio\\beethoven_pastoral_park_126.wav\n"
     ]
    },
    {
     "name": "stderr",
     "output_type": "stream",
     "text": [
      "t:  39%|███▉      | 117/300 [13:12:28<00:05, 32.09it/s, now=None]"
     ]
    },
    {
     "name": "stdout",
     "output_type": "stream",
     "text": [
      "MoviePy - Done.\n",
      "Moviepy - Building video data/clips\\beethoven_pastoral_park_127.mp4.\n",
      "Moviepy - Writing video data/clips\\beethoven_pastoral_park_127.mp4\n",
      "\n"
     ]
    },
    {
     "name": "stderr",
     "output_type": "stream",
     "text": [
      "t:  39%|███▉      | 117/300 [13:12:41<00:05, 32.09it/s, now=None]"
     ]
    },
    {
     "name": "stdout",
     "output_type": "stream",
     "text": [
      "Moviepy - Done !\n",
      "Moviepy - video ready data/clips\\beethoven_pastoral_park_127.mp4\n",
      "MoviePy - Writing audio in data/audio\\beethoven_pastoral_park_127.wav\n"
     ]
    },
    {
     "name": "stderr",
     "output_type": "stream",
     "text": [
      "t:  39%|███▉      | 117/300 [13:12:42<00:05, 32.09it/s, now=None]"
     ]
    },
    {
     "name": "stdout",
     "output_type": "stream",
     "text": [
      "MoviePy - Done.\n",
      "Moviepy - Building video data/clips\\beethoven_pastoral_park_128.mp4.\n",
      "Moviepy - Writing video data/clips\\beethoven_pastoral_park_128.mp4\n",
      "\n"
     ]
    },
    {
     "name": "stderr",
     "output_type": "stream",
     "text": [
      "t:  39%|███▉      | 117/300 [13:13:00<00:05, 32.09it/s, now=None]"
     ]
    },
    {
     "name": "stdout",
     "output_type": "stream",
     "text": [
      "Moviepy - Done !\n",
      "Moviepy - video ready data/clips\\beethoven_pastoral_park_128.mp4\n",
      "MoviePy - Writing audio in data/audio\\beethoven_pastoral_park_128.wav\n"
     ]
    },
    {
     "name": "stderr",
     "output_type": "stream",
     "text": [
      "t:  39%|███▉      | 117/300 [13:13:01<00:05, 32.09it/s, now=None]"
     ]
    },
    {
     "name": "stdout",
     "output_type": "stream",
     "text": [
      "MoviePy - Done.\n",
      "Moviepy - Building video data/clips\\beethoven_pastoral_park_129.mp4.\n",
      "Moviepy - Writing video data/clips\\beethoven_pastoral_park_129.mp4\n",
      "\n"
     ]
    },
    {
     "name": "stderr",
     "output_type": "stream",
     "text": [
      "t:  39%|███▉      | 117/300 [13:13:13<00:05, 32.09it/s, now=None]"
     ]
    },
    {
     "name": "stdout",
     "output_type": "stream",
     "text": [
      "Moviepy - Done !\n",
      "Moviepy - video ready data/clips\\beethoven_pastoral_park_129.mp4\n",
      "MoviePy - Writing audio in data/audio\\beethoven_pastoral_park_129.wav\n"
     ]
    },
    {
     "name": "stderr",
     "output_type": "stream",
     "text": [
      "t:  39%|███▉      | 117/300 [13:13:14<00:05, 32.09it/s, now=None]"
     ]
    },
    {
     "name": "stdout",
     "output_type": "stream",
     "text": [
      "MoviePy - Done.\n",
      "Moviepy - Building video data/clips\\beethoven_pastoral_park_130.mp4.\n",
      "Moviepy - Writing video data/clips\\beethoven_pastoral_park_130.mp4\n",
      "\n"
     ]
    },
    {
     "name": "stderr",
     "output_type": "stream",
     "text": [
      "t:  39%|███▉      | 117/300 [13:13:33<00:05, 32.09it/s, now=None]"
     ]
    },
    {
     "name": "stdout",
     "output_type": "stream",
     "text": [
      "Moviepy - Done !\n",
      "Moviepy - video ready data/clips\\beethoven_pastoral_park_130.mp4\n",
      "MoviePy - Writing audio in data/audio\\beethoven_pastoral_park_130.wav\n"
     ]
    },
    {
     "name": "stderr",
     "output_type": "stream",
     "text": [
      "t:  39%|███▉      | 117/300 [13:13:34<00:05, 32.09it/s, now=None]"
     ]
    },
    {
     "name": "stdout",
     "output_type": "stream",
     "text": [
      "MoviePy - Done.\n",
      "Moviepy - Building video data/clips\\beethoven_pastoral_park_131.mp4.\n",
      "Moviepy - Writing video data/clips\\beethoven_pastoral_park_131.mp4\n",
      "\n"
     ]
    },
    {
     "name": "stderr",
     "output_type": "stream",
     "text": [
      "t:  39%|███▉      | 117/300 [13:13:44<00:05, 32.09it/s, now=None]"
     ]
    },
    {
     "name": "stdout",
     "output_type": "stream",
     "text": [
      "Moviepy - Done !\n",
      "Moviepy - video ready data/clips\\beethoven_pastoral_park_131.mp4\n",
      "MoviePy - Writing audio in data/audio\\beethoven_pastoral_park_131.wav\n"
     ]
    },
    {
     "name": "stderr",
     "output_type": "stream",
     "text": [
      "t:  39%|███▉      | 117/300 [13:13:44<00:05, 32.09it/s, now=None]"
     ]
    },
    {
     "name": "stdout",
     "output_type": "stream",
     "text": [
      "MoviePy - Done.\n",
      "Moviepy - Building video data/clips\\beethoven_pastoral_park_132.mp4.\n",
      "Moviepy - Writing video data/clips\\beethoven_pastoral_park_132.mp4\n",
      "\n"
     ]
    },
    {
     "name": "stderr",
     "output_type": "stream",
     "text": [
      "t:  39%|███▉      | 117/300 [13:13:51<00:05, 32.09it/s, now=None]"
     ]
    },
    {
     "name": "stdout",
     "output_type": "stream",
     "text": [
      "Moviepy - Done !\n",
      "Moviepy - video ready data/clips\\beethoven_pastoral_park_132.mp4\n",
      "MoviePy - Writing audio in data/audio\\beethoven_pastoral_park_132.wav\n"
     ]
    },
    {
     "name": "stderr",
     "output_type": "stream",
     "text": [
      "t:  39%|███▉      | 117/300 [13:13:53<00:05, 32.09it/s, now=None]"
     ]
    },
    {
     "name": "stdout",
     "output_type": "stream",
     "text": [
      "MoviePy - Done.\n",
      "Moviepy - Building video data/clips\\beethoven_pastoral_park_133.mp4.\n",
      "Moviepy - Writing video data/clips\\beethoven_pastoral_park_133.mp4\n",
      "\n"
     ]
    },
    {
     "name": "stderr",
     "output_type": "stream",
     "text": [
      "t:  39%|███▉      | 117/300 [13:14:06<00:05, 32.09it/s, now=None]"
     ]
    },
    {
     "name": "stdout",
     "output_type": "stream",
     "text": [
      "Moviepy - Done !\n",
      "Moviepy - video ready data/clips\\beethoven_pastoral_park_133.mp4\n",
      "MoviePy - Writing audio in data/audio\\beethoven_pastoral_park_133.wav\n"
     ]
    },
    {
     "name": "stderr",
     "output_type": "stream",
     "text": [
      "t:  39%|███▉      | 117/300 [13:14:07<00:05, 32.09it/s, now=None]"
     ]
    },
    {
     "name": "stdout",
     "output_type": "stream",
     "text": [
      "MoviePy - Done.\n"
     ]
    }
   ],
   "source": [
    "fname = filename.split('.')[0]\n",
    "\n",
    "for i in range(start_sec, end_sec, dur):\n",
    "    \n",
    "    if (end_sec - i) < dur:\n",
    "        break\n",
    "\n",
    "    # save video clip\n",
    "    # NOTE: just saving the 10 sec clips\n",
    "        # the preprocessing in video llama repo extracts every n_frms frames\n",
    "        # ill try first with just every frame\n",
    "    clip = vid.subclip(i, i+dur)\n",
    "    clip.write_videofile(os.path.join(clip_dir, f'{fname}_{clip_counter}.mp4'), fps=30, audio=False)\n",
    "\n",
    "    # save audio clip\n",
    "    # NOTE: just saving the 10 sec clips\n",
    "        # the preprocessing in the video llama repo extracts consecutive audio subclips\n",
    "        # which i'll set to 5 subclips of 2 sec each (to span the entire audio clip)\n",
    "    clip_audio = clip.audio\n",
    "    clip_audio.write_audiofile(os.path.join(audio_dir, f'{fname}_{clip_counter}.wav'), fps=44100, codec=\"pcm_s16le\")\n",
    "    \n",
    "    '''for j in range(0, dur, audio_subclip_dur):\n",
    "\n",
    "        # save audio subclip as wav\n",
    "        audio_subclip = clip_audio.subclip(j, j+audio_subclip_dur)\n",
    "        audio_subclip_path = os.path.join(audio_dir, fname, str(clip_counter), str(int(j / audio_subclip_dur)) + \".wav\")\n",
    "        audio_subclip.write_audiofile(audio_subclip_path)\n",
    "\n",
    "        # extract and save spectrogram\n",
    "        create_spectrogram(audio_subclip_path)\n",
    "\n",
    "        # delete wav\n",
    "        os.remove(audio_subclip_path)'''\n",
    "\n",
    "    # extract, preprocess, and save frames\n",
    "    # TODO: optical flow, contouring?\n",
    "    '''frame_counter = 0\n",
    "    for frame in clip.iter_frames(fps=video_fps):\n",
    "        # frame is a H x W x N (N = 3 for RGB) np.array\n",
    "        frame_path = os.path.join(clip_vid_dir, str(frame_counter) + \".npy\")\n",
    "        np.save(frame_path, frame)\n",
    "        frame_counter += 1'''\n",
    "\n",
    "    clip_counter += 1"
   ]
  },
  {
   "cell_type": "markdown",
   "metadata": {},
   "source": [
    "## Create csv for Dataset"
   ]
  },
  {
   "cell_type": "code",
   "execution_count": 94,
   "metadata": {},
   "outputs": [],
   "source": [
    "val_prop = 0.1\n",
    "# ill get separate test data later (can be more isolated clips and such)"
   ]
  },
  {
   "cell_type": "code",
   "execution_count": 96,
   "metadata": {},
   "outputs": [],
   "source": [
    "train_clip_paths = []\n",
    "train_audio_paths = []\n",
    "val_clip_paths = []\n",
    "val_audio_paths = []\n",
    "\n",
    "# TODO: Append 'train' or 'val' as a folder after 'data'\n",
    "    # based on random number instead of splitting after\n",
    "for file in os.listdir(clip_dir):\n",
    "    fname = file.split('.')[0]\n",
    "    split = 'val' if np.random.random() < val_prop else 'train'\n",
    "    if os.path.exists(os.path.join(audio_dir, f'{fname}.wav')):\n",
    "        if split == 'train':\n",
    "            train_clip_paths.append(os.path.join(root_dir, split, 'clips', file))\n",
    "            train_audio_paths.append(os.path.join(root_dir, split, 'audio', f'{fname}.wav'))\n",
    "        else:\n",
    "            val_clip_paths.append(os.path.join(root_dir, split, 'clips', file))\n",
    "            val_audio_paths.append(os.path.join(root_dir, split, 'audio', f'{fname}.wav'))\n",
    "    else:\n",
    "        print(f'No audio file for clip {file}')\n",
    "\n",
    "train_df = pd.DataFrame({'clip_path': train_clip_paths, 'audio_path': train_audio_paths})\n",
    "val_df = pd.DataFrame({'clip_path': val_clip_paths, 'audio_path': val_audio_paths})\n",
    "\n",
    "train_df.to_csv(os.path.join(root_dir, 'train_ds.csv'), index=False)\n",
    "val_df.to_csv(os.path.join(root_dir, 'val_ds.csv'), index=False)"
   ]
  }
 ],
 "metadata": {
  "kernelspec": {
   "display_name": ".env",
   "language": "python",
   "name": "python3"
  },
  "language_info": {
   "codemirror_mode": {
    "name": "ipython",
    "version": 3
   },
   "file_extension": ".py",
   "mimetype": "text/x-python",
   "name": "python",
   "nbconvert_exporter": "python",
   "pygments_lexer": "ipython3",
   "version": "3.7.9"
  }
 },
 "nbformat": 4,
 "nbformat_minor": 2
}
